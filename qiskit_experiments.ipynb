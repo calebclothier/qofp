{
 "cells": [
  {
   "cell_type": "code",
   "execution_count": null,
   "metadata": {},
   "outputs": [],
   "source": [
    "from qiskit.tools.jupyter import *\n",
    "from qiskit import pulse\n",
    "from qiskit.circuit import QuantumCircuit, Gate, Parameter, QuantumRegister, ClassicalRegister\n",
    "from qiskit.circuit.library import Measure\n",
    "from qiskit.pulse import Acquire, AcquireChannel, MemorySlot\n",
    "from qiskit import schedule, transpile, execute\n",
    "\n",
    "import numpy as np\n",
    "import matplotlib.pyplot as plt "
   ]
  },
  {
   "cell_type": "markdown",
   "metadata": {},
   "source": [
    "## Connect to IBM backend with Pulse"
   ]
  },
  {
   "cell_type": "code",
   "execution_count": null,
   "metadata": {},
   "outputs": [],
   "source": [
    "from qiskit import IBMQ\n",
    "IBMQ.load_account()\n",
    "provider = IBMQ.get_provider(hub='ibm-q')\n",
    "backend = provider.get_backend('ibm_kyoto') "
   ]
  },
  {
   "cell_type": "code",
   "execution_count": null,
   "metadata": {},
   "outputs": [],
   "source": [
    "backend_config = backend.configuration()\n",
    "dt = backend_config.to_dict()['dtm']\n",
    "assert backend_config.open_pulse, \"Backend doesn't support Pulse\""
   ]
  },
  {
   "cell_type": "markdown",
   "metadata": {},
   "source": [
    "## Define readout pulse sequence "
   ]
  },
  {
   "cell_type": "code",
   "execution_count": null,
   "metadata": {},
   "outputs": [],
   "source": [
    "qubit = 0\n",
    "duration = 560 # set desired duration in units of dt, must be multiple of 8\n",
    "\n",
    "with pulse.build(backend=backend, name='measure_sched') as measure_sched:\n",
    "    meas_chan = pulse.measure_channel(qubit)\n",
    "    acq_chan = pulse.acquire_channel(qubit)\n",
    "    with pulse.align_left():\n",
    "        # amplitude and phase obtained by inspecting the pulse parameters for qc.measure(0)$\n",
    "        pulse.play(pulse.Constant(duration=duration, amp=0.36, angle=-0.214), meas_chan)\n",
    "        pulse.acquire(duration, acq_chan, MemorySlot(0))\n",
    "\n",
    "measure_gate = Gate(\"measure_gate\", 1, [duration])\n",
    "\n",
    "qc_meas_0 = QuantumCircuit(1, 1)\n",
    "qc_meas_0.append(measure_gate, [0]) \n",
    "qc_meas_0.add_calibration(measure_gate, (0,), measure_sched)\n",
    "\n",
    "qc_meas_1 = QuantumCircuit(1, 1)\n",
    "qc_meas_1.x(0)\n",
    "qc_meas_1.append(measure_gate, [0]) \n",
    "qc_meas_1.add_calibration(measure_gate, (0,), measure_sched)\n",
    "\n",
    "all_circs = [qc_meas_0, qc_meas_1]"
   ]
  },
  {
   "cell_type": "code",
   "execution_count": null,
   "metadata": {},
   "outputs": [],
   "source": [
    "sweep_schedule = schedule(all_circs, backend)\n",
    "sweep_schedule[1].draw(backend=backend)"
   ]
  },
  {
   "cell_type": "markdown",
   "metadata": {},
   "source": [
    "## Run experiment"
   ]
  },
  {
   "cell_type": "code",
   "execution_count": null,
   "metadata": {},
   "outputs": [],
   "source": [
    "job = backend.run(all_circs, meas_level=1, meas_return='single', shots=2048)"
   ]
  },
  {
   "cell_type": "markdown",
   "metadata": {},
   "source": [
    "## Load data "
   ]
  },
  {
   "cell_type": "code",
   "execution_count": null,
   "metadata": {},
   "outputs": [],
   "source": [
    "fns = [\n",
    "    'duration_560_kyoto_4910_7160.pkl',\n",
    "    'duration_1096_kyoto_4910_7160.pkl',\n",
    "    'duration_2496_kyoto_4910_7160.pkl',\n",
    "    'duration_4992_kyoto_4910_7160.pkl'\n",
    "] \n",
    "\n",
    "results = []\n",
    "for fn in fns:\n",
    "    with open('data/' + fn, 'rb') as f:\n",
    "        results.append(pickle.load(f))"
   ]
  },
  {
   "cell_type": "markdown",
   "metadata": {},
   "source": [
    "## Analysis"
   ]
  },
  {
   "cell_type": "code",
   "execution_count": null,
   "metadata": {},
   "outputs": [],
   "source": [
    "from scipy.optimize import curve_fit\n",
    "\n",
    "def gaussian(x, mu, sigma, A):\n",
    "    return A * np.exp(-0.5 * ((x - mu) / sigma) ** 2)\n",
    "\n",
    "# Double Gaussian function\n",
    "def double_gaussian(x, mu1, sigma1, A1, mu2, sigma2, A2):\n",
    "    return A1 * np.exp(-0.5 * ((x - mu1) / sigma1) ** 2) + A2 * np.exp(-0.5 * ((x - mu2) / sigma2) ** 2)\n",
    "\n",
    "\n",
    "def intersection_of_two_gaussians(mu1, sigma1, A1, mu2, sigma2, A2):\n",
    "    a = -0.5*(1/sigma2**2 - 1/sigma1**2)\n",
    "    b = (mu2/sigma2**2 - mu1/sigma1**2)\n",
    "    c = np.log(A2/A1) - 0.5*((mu2/sigma2)**2 - (mu1/sigma1)**2)\n",
    "    x1 = (-b + np.sqrt(b**2 - 4*a*c))/(2*a)\n",
    "    x2 = (-b - np.sqrt(b**2 - 4*a*c))/(2*a)\n",
    "    return x1, x2"
   ]
  },
  {
   "cell_type": "code",
   "execution_count": null,
   "metadata": {},
   "outputs": [],
   "source": [
    "fig, ax = plt.subplots(figsize=(5,5), nrows=2, ncols=2, sharex=True, sharey=True)\n",
    "\n",
    "for i, result in enumerate(results):\n",
    "    IQ_0 = result.get_memory(0)\n",
    "    IQ_1 = result.get_memory(1)\n",
    "    # plotting indices\n",
    "    xi, xj = i//2, i%2\n",
    "    ax[xi,xj].plot(np.real(IQ_0), np.imag(IQ_0), 'o', ms=2, alpha=0.2)\n",
    "    ax[xi,xj].plot(np.real(IQ_1), np.imag(IQ_1), 'o', ms=2, alpha=0.2)\n",
    "    ax[xi,xj].grid()\n",
    "    \n",
    "ax[0,0].set_ylabel('Q')\n",
    "ax[1,0].set_ylabel('Q')\n",
    "ax[1,0].set_xlabel('I')\n",
    "ax[1,1].set_xlabel('I')\n",
    "\n",
    "fig.suptitle('Raw Qiskit integrated readout IQ data')\n",
    "fig.tight_layout()"
   ]
  },
  {
   "cell_type": "code",
   "execution_count": null,
   "metadata": {},
   "outputs": [],
   "source": [
    "dt_to_ns = 0.5\n",
    "\n",
    "fig, ax = plt.subplots(nrows=2, ncols=2, figsize=(7,7), sharex=True, sharey=True)\n",
    "\n",
    "durations = [560, 1096, 2496, 4992]\n",
    "\n",
    "misprep_eg_list = []\n",
    "misprep_ge_list = []\n",
    "\n",
    "for i, result in enumerate(results):\n",
    "    \n",
    "    # plotting indices\n",
    "    xi, xj = i//2, i%2\n",
    "    \n",
    "    data_0 = result.get_memory(0)\n",
    "    data_1 = result.get_memory(1)\n",
    "        \n",
    "    # bin experimental data\n",
    "    counts_0, bins_0 = np.histogram(np.real(data_0), bins=40)\n",
    "    counts_1, bins_1 = np.histogram(np.real(data_1), bins=40)\n",
    "    bin_centers_0 = (bins_0[:-1] + bins_0[1:])/2\n",
    "    bin_centers_1 = (bins_1[:-1] + bins_1[1:])/2\n",
    "    \n",
    "    # plot binned experimental data\n",
    "    ax[xi,xj].plot(bin_centers_0, counts_0, 'o', ms=3, c='C0', label=None if i > 0 else 'prep_g')\n",
    "    ax[xi,xj].plot(bin_centers_1, counts_1, 'o', ms=3, c='C1', label=None if i > 0 else 'prep_e')\n",
    "    ax[xi,xj].set_yscale('log')\n",
    "    ax[xi,xj].set_ylim(10**0, 10**2.5)\n",
    "    \n",
    "    # fit double gaussians\n",
    "    p0_0 = [-0.1*(i+1), 0.3, np.max(counts_0), 0.1*(i+1), 0.3, np.max(counts_0)/5]\n",
    "    p0_1 = [-0.1*(i+1), 0.3, np.max(counts_0)/5, 0.1*(i+1), 0.3, np.max(counts_0)]\n",
    "    params_0, cov = curve_fit(double_gaussian, bin_centers_0/1e8, counts_0, p0=p0_0, maxfev=10000)\n",
    "    params_1, cov = curve_fit(double_gaussian, bin_centers_1/1e8, counts_1, p0=p0_1, maxfev=10000)\n",
    "    \n",
    "    # determine bounds for plotting fits\n",
    "    xmin = np.min([bins_0, bins_1])\n",
    "    xmax = np.max([bins_0, bins_1])\n",
    "    fit_xs = np.linspace(xmin, xmax, 100)\n",
    "    \n",
    "    # calculate decision boundary\n",
    "    threshold_x = 1e8 * intersection_of_two_gaussians(*params_0[:3], *params_1[3:])[0]\n",
    "    \n",
    "    # calculate fidelity F = 1 - P(g|e) - P(e|g)\n",
    "    N = data_0.shape[0]\n",
    "    P_eg = np.sum(np.where(np.real(data_0) > threshold_x, 1, 0)) / N\n",
    "    P_ge = np.sum(np.where(np.real(data_1) < threshold_x, 1, 0)) / N\n",
    "    F = 1 - P_ge - P_eg\n",
    "    gaussian_g = gaussian(fit_xs/1e8, *params_0[:3])\n",
    "    gaussian_e = gaussian(fit_xs/1e8, *params_1[3:])\n",
    "    P_eg_ideal = np.sum(gaussian_g[np.argwhere(fit_xs > threshold_x)]) / np.sum(gaussian_g)\n",
    "    P_ge_ideal = np.sum(gaussian_e[np.argwhere(fit_xs < threshold_x)]) / np.sum(gaussian_e)\n",
    "    F_ideal = 1 - P_ge_ideal - P_eg_ideal\n",
    "    \n",
    "    misprep_eg = params_0[5]/(params_0[2] + params_0[5]) # expect g get e\n",
    "    misprep_ge = params_1[2]/(params_1[2] + params_1[5]) # expect e get g\n",
    "    misprep_eg_list.append(misprep_eg)\n",
    "    misprep_ge_list.append(misprep_ge)\n",
    "    \n",
    "    ax[xi,xj].plot(fit_xs, double_gaussian(fit_xs/1e8, *params_0), c='C0')\n",
    "    ax[xi,xj].plot(fit_xs, gaussian(fit_xs/1e8, *params_0[:3]), '--', c='C0')\n",
    "    ax[xi,xj].plot(fit_xs, double_gaussian(fit_xs/1e8, *params_1), c='C1')\n",
    "    ax[xi,xj].plot(fit_xs, gaussian(fit_xs/1e8, *params_1[3:]), '--', c='C1')\n",
    "    ax[xi,xj].fill_between(\n",
    "        fit_xs, 0, np.minimum(gaussian(fit_xs/1e8, *params_1[3:]), gaussian(fit_xs/1e8, *params_0[:3])),\n",
    "        alpha=0.4, color='C2', label=None if i!=0 else r'$\\propto P(g|e)+P(e|g)$')\n",
    "    ax[xi, xj].vlines(threshold_x, ymin=10**0, ymax=10**2.5, color='gray', linestyle='dashed', label=None if i>0 else 'threshold')\n",
    "    \n",
    "    ax[xi,xj].set_title(r\"$\\tau=$\" + f\"{durations[i]*0.5:.0f} ns, \"  \\\n",
    "        + r'$F=$'+f'{F:.2f}, ' + r'$F_\\mathrm{ideal}=$' + f'{F_ideal:.2f}')\n",
    "    \n",
    "\n",
    "ax[1,0].set_xlabel('I quadrature')\n",
    "ax[1,1].set_xlabel('I quadrature')\n",
    "ax[0,0].set_ylabel('Counts')\n",
    "ax[1,0].set_ylabel('Counts')\n",
    "\n",
    "fig.suptitle('Readout I quadrature distribution at varying measurement times \\n with double Gaussian fits, n_shots=2048')\n",
    "fig.legend(loc='upper center', bbox_to_anchor=(0.5, 0.93), ncol=4)\n",
    "fig.tight_layout(rect=[0, 0, 1, 0.95])"
   ]
  },
  {
   "cell_type": "code",
   "execution_count": null,
   "metadata": {},
   "outputs": [],
   "source": [
    "fig, ax = plt.subplots()\n",
    "\n",
    "ax.plot(np.array(durations)*0.5, np.abs(misprep_eg_list), 'o-', label='P(e|g)')\n",
    "ax.plot(np.array(durations)*0.5, np.abs(misprep_ge_list), 'o-', label='P(g|e)')\n",
    "ax.set_ylabel('Probability of wrong state')\n",
    "ax.set_xlabel(r'Readout duration $\\tau$ [ns]')\n",
    "ax.set_title('State \"preparation\" error vs readout duration')\n",
    "ax.legend()"
   ]
  }
 ],
 "metadata": {
  "kernelspec": {
   "display_name": "quantum",
   "language": "python",
   "name": "python3"
  },
  "language_info": {
   "codemirror_mode": {
    "name": "ipython",
    "version": 3
   },
   "file_extension": ".py",
   "mimetype": "text/x-python",
   "name": "python",
   "nbconvert_exporter": "python",
   "pygments_lexer": "ipython3",
   "version": "3.11.8"
  },
  "orig_nbformat": 4
 },
 "nbformat": 4,
 "nbformat_minor": 2
}
