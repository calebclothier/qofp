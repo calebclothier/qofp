{
 "cells": [
  {
   "cell_type": "code",
   "execution_count": null,
   "metadata": {},
   "outputs": [],
   "source": [
    "import matplotlib as mpl\n",
    "import matplotlib.pyplot as plt\n",
    "import numpy as np\n",
    "import unicodedata as ud\n",
    "import math\n",
    "import scipy.integrate as integrate\n",
    "from scipy.integrate import solve_ivp, odeint, complex_ode\n",
    "from qutip import *\n",
    "from mpl_toolkits.mplot3d import Axes3D\n",
    "from scipy import optimize"
   ]
  },
  {
   "cell_type": "code",
   "execution_count": null,
   "metadata": {},
   "outputs": [],
   "source": [
    "tlist = np.linspace(0, 200, 201)\n",
    "taulist = np.linspace(10,200,191) # kist of integration times tau65"
   ]
  },
  {
   "cell_type": "code",
   "execution_count": null,
   "metadata": {},
   "outputs": [],
   "source": [
    "# parameters. Frequency in GHz, time in ns\n",
    "\n",
    "w_r = 4.754 * 2 * np.pi  # readout resonator frequency\n",
    "w_d = w_r\n",
    "w_q = 6.316 * 2 * np.pi  # qubit frequency\n",
    "w_f = 4.752 * 2 * np.pi\n",
    "Delta = w_q - w_r # qubit resonator detuning\n",
    "delta = 340e-3 * 2 * np.pi # transmon anharmonicity\n",
    "# don't mix these two!\n",
    "g = 208e-3 * 2 * np.pi \n",
    "G = 25e-3 *2 * np.pi\n",
    "T_1 = 7.6e3\n",
    "n_crit = Delta**2/(4*g**2)\n",
    "n_d = 2.5\n",
    "k_f = 64e-3 * 2 * np.pi\n",
    "\n",
    "chi = g**2/Delta - g**2/(Delta - delta)\n",
    "k_eff_q = 4*G**2/k_f/(1 + (2*(w_q - w_f)/k_f)**2)\n",
    "k_eff_d = 4*G**2 / k_f/ (1 + (2*(w_r - w_f)/k_f)**2)\n",
    "E_d = np.sqrt(n_d*(k_eff_d**2/4 + chi**2))\n",
    "Gamma = g**2 * k_eff_q / Delta**2 "
   ]
  },
  {
   "cell_type": "code",
   "execution_count": null,
   "metadata": {},
   "outputs": [],
   "source": [
    "# cavity operators \n",
    "N=20\n",
    "a = tensor(destroy(N), qeye(2)) # annihilation \n",
    "nc = a.dag() * a\n",
    "xr1 = (a + a.dag())\n",
    "xr2 = 1/(1j)*(a - a.dag())\n",
    "\n",
    "# qubit operators \n",
    "sz = tensor(qeye(N), sigmaz()) # sigma_z = |e><e|-|g><g|\n",
    "sp = tensor(qeye(N), sigmap()) # sigma_+\n",
    "sm = tensor(qeye(N), sigmam()) # sigma_-\n",
    "sx = sp + sm\n",
    "nq = sp * sm"
   ]
  },
  {
   "cell_type": "code",
   "execution_count": null,
   "metadata": {},
   "outputs": [],
   "source": [
    "psi0_g = tensor(basis(N,0), basis(2, 1))\n",
    "psi0_e = tensor(basis(N,0), basis(2, 0))"
   ]
  },
  {
   "cell_type": "code",
   "execution_count": null,
   "metadata": {},
   "outputs": [],
   "source": [
    "H_JC = w_q * sz + (w_r)* nc + chi*nc*sz\n",
    "H_JC_int = (w_q- w_d)/2*sz + (w_r- w_d)*nc + chi*nc*sz \n",
    "H_int = H_JC_int + E_d * (a + a.dag())"
   ]
  },
  {
   "cell_type": "code",
   "execution_count": null,
   "metadata": {},
   "outputs": [],
   "source": [
    "res_g_qss = mesolve(H_int, psi0_g, tlist, [np.sqrt(k_eff_d) * a, np.sqrt(1/T_1) * sm, np.sqrt(Gamma) * sm], [xr1]).expect[0]\n",
    "res_e_qss = mesolve(H_int, psi0_e, tlist, [np.sqrt(k_eff_d) * a, np.sqrt(1/T_1) * sm, np.sqrt(Gamma) * sm], [xr1]).expect[0]"
   ]
  },
  {
   "cell_type": "markdown",
   "metadata": {},
   "source": [
    "## Fig 1(c): cavity quadrature trajectories"
   ]
  },
  {
   "cell_type": "code",
   "execution_count": null,
   "metadata": {},
   "outputs": [],
   "source": [
    "fig, ax = plt.subplots(1, 1, figsize=(6, 4))\n",
    "\n",
    "ax.plot(tlist, res_e_qss/2, label = 'Excited', c='r')\n",
    "ax.plot(tlist, res_g_qss/2, label = 'Ground', c='g')\n",
    "\n",
    "ax.legend()\n",
    "ax.set_xlabel(\"Time (ns)\")\n",
    "ax.set_ylabel(\"Q(t)\")\n",
    "ax.grid(True)"
   ]
  },
  {
   "cell_type": "markdown",
   "metadata": {},
   "source": [
    "## Tuning $\\chi$ and $\\chi/\\kappa$"
   ]
  },
  {
   "cell_type": "code",
   "execution_count": null,
   "metadata": {},
   "outputs": [],
   "source": [
    "def find_G(k_r):\n",
    "    def func(G_r):\n",
    "        return 4*G_r**2 / k_f/ (1 + (2*(w_r - w_f)/k_f)**2) - k_r # k is k_eff_d for given ratio\n",
    "    s = optimize.root_scalar(func, bracket=[2*np.pi*1e-3, 2*np.pi*50e-3], method='brentq').root\n",
    "    return s"
   ]
  },
  {
   "cell_type": "markdown",
   "metadata": {},
   "source": [
    "### $\\chi$=-7.7 MHz, $\\chi/\\kappa$=0.5"
   ]
  },
  {
   "cell_type": "code",
   "execution_count": null,
   "metadata": {},
   "outputs": [],
   "source": [
    "r = 0.5\n",
    "g_7_05 = 208e-3 * 2 * np.pi\n",
    "chi_7_05 = -2*np.pi*7.7e-3\n",
    "k_eff_d_7_05 = np.abs(chi_7_05/r)\n",
    "E_d_7_05 = np.sqrt(n_d*(k_eff_d_7_05**2/4 + chi_7_05**2))\n",
    "G_7_05 = find_G(k_eff_d_7_05)\n",
    "k_eff_7_05 = 4*G_7_05**2/k_f/(1 + (2*(w_q - w_f)/k_f)**2)\n",
    "Gamma_7_05 = g_7_05**2 * k_eff_7_05 / Delta**2 \n",
    "\n",
    "H_JC_int = (w_q- w_d)/2*sz + (w_r- w_d)*nc + chi_7_05*nc*sz\n",
    "H_int = H_JC_int + E_d_7_05 * (a + a.dag())\n",
    "\n",
    "Qg_7_05 = mesolve(H_int, psi0_g, tlist, [np.sqrt(k_eff_d_7_05) * a, np.sqrt(1/T_1) * sm, np.sqrt(Gamma_7_05) * sm], [xr1, xr2]).expect[0]\n",
    "Qe_7_05 = mesolve(H_int, psi0_e, tlist, [np.sqrt(k_eff_d_7_05) * a, np.sqrt(1/T_1) * sm, np.sqrt(Gamma_7_05) * sm], [xr1, xr2]).expect[0]"
   ]
  },
  {
   "cell_type": "markdown",
   "metadata": {},
   "source": [
    "### $\\chi$=-4 MHz, $\\chi/\\kappa$=0.5"
   ]
  },
  {
   "cell_type": "code",
   "execution_count": null,
   "metadata": {},
   "outputs": [],
   "source": [
    "r = 0.5\n",
    "g_4_05 = 208/np.sqrt(7.7/4)*1e-3 * 2 * np.pi\n",
    "chi_4_05 = -2*np.pi*4e-3\n",
    "k_eff_d_4_05 = np.abs(chi_4_05/r)\n",
    "E_d_4_05 = np.sqrt(n_d*(k_eff_d_4_05**2/4 + chi_4_05**2))\n",
    "G_4_05 = find_G(k_eff_d_4_05)\n",
    "k_eff_4_05 = 4*G_4_05**2/k_f/(1 + (2*(w_q - w_f)/k_f)**2)\n",
    "Gamma_4_05 = g_4_05**2 * k_eff_4_05 / Delta**2 \n",
    "\n",
    "H_JC_int = (w_q- w_d)/2*sz + (w_r- w_d)*nc + chi_4_05*nc*sz\n",
    "H_int = H_JC_int + E_d_4_05 * (a + a.dag())\n",
    "\n",
    "Qg_4_05 = mesolve(H_int, psi0_g, tlist, [np.sqrt(k_eff_d_4_05) * a, np.sqrt(1/T_1) * sm, np.sqrt(Gamma_4_05) * sm], [xr1, xr2]).expect[0]\n",
    "Qe_4_05 = mesolve(H_int, psi0_e, tlist, [np.sqrt(k_eff_d_4_05) * a, np.sqrt(1/T_1) * sm, np.sqrt(Gamma_4_05) * sm], [xr1, xr2]).expect[0]"
   ]
  },
  {
   "cell_type": "markdown",
   "metadata": {},
   "source": [
    "### $\\chi$=-2 MHz, $\\chi/\\kappa$=0.5"
   ]
  },
  {
   "cell_type": "code",
   "execution_count": null,
   "metadata": {},
   "outputs": [],
   "source": [
    "r = 0.5\n",
    "g_2_05 = 208/np.sqrt(7.7/2)*1e-3 * 2 * np.pi\n",
    "chi_2_05 = -2*np.pi*2e-3\n",
    "k_eff_d_2_05 = np.abs(chi_2_05/r)\n",
    "E_d_2_05 = np.sqrt(n_d*(k_eff_d_2_05**2/4 + chi_2_05**2))\n",
    "G_2_05 = find_G(k_eff_d_2_05)\n",
    "k_eff_2_05 = 4*G_2_05**2/k_f/(1 + (2*(w_q - w_f)/k_f)**2)\n",
    "Gamma_2_05 = g_2_05**2 * k_eff_2_05 / Delta**2 \n",
    "\n",
    "H_JC_int = (w_q- w_d)/2*sz + (w_r- w_d)*nc + chi_2_05*nc*sz\n",
    "H_int = H_JC_int + E_d_2_05 * (a + a.dag())\n",
    "\n",
    "Qg_2_05 = mesolve(H_int, psi0_g, tlist, [np.sqrt(k_eff_d_2_05) * a, np.sqrt(1/T_1) * sm, np.sqrt(Gamma_2_05) * sm], [xr1, xr2]).expect[0]\n",
    "Qe_2_05 = mesolve(H_int, psi0_e, tlist, [np.sqrt(k_eff_d_2_05) * a, np.sqrt(1/T_1) * sm, np.sqrt(Gamma_2_05) * sm], [xr1, xr2]).expect[0]"
   ]
  },
  {
   "cell_type": "markdown",
   "metadata": {},
   "source": [
    "## Fig 4(b): S(t) for different parameters"
   ]
  },
  {
   "cell_type": "code",
   "execution_count": null,
   "metadata": {},
   "outputs": [],
   "source": [
    "fig, ax = plt.subplots(1, 1, figsize=(4, 4))\n",
    "\n",
    "ax.plot(tlist, np.sqrt(k_f)*(res_e_qss/2-res_g_qss/2), label='7.7 0.2',c='b', linestyle='--')\n",
    "ax.plot(tlist, np.sqrt(k_f)*(Qe_2_05/2-Qg_2_05/2),label='2 0.5', c='r')\n",
    "ax.plot(tlist, np.sqrt(k_f)*(Qe_4_05/2-Qg_4_05/2),label='4 0.5', c='g')\n",
    "ax.plot(tlist, np.sqrt(k_f)*(Qe_7_05/2-Qg_7_05/2),label='7.7 0.5', c='b')\n",
    "ax.set_xlabel(\"Time (ns)\")\n",
    "ax.set_ylabel(\"S(t)\")\n",
    "ax.legend()\n",
    "ax.grid(True)"
   ]
  },
  {
   "cell_type": "code",
   "execution_count": null,
   "metadata": {},
   "outputs": [],
   "source": [
    "def iir(Qe, Qg, tau): # integrated information rate\n",
    "    i = list(tlist).index(tau)\n",
    "    yvalues = np.sqrt(k_f)*(Qe/2-Qg/2)\n",
    "    return integrate.trapezoid(yvalues[0:i+1], tlist[0:i+1]) / np.sqrt(tau)"
   ]
  },
  {
   "cell_type": "markdown",
   "metadata": {},
   "source": [
    "## Fig 4(c): s($\\tau$) for different parameters"
   ]
  },
  {
   "cell_type": "code",
   "execution_count": null,
   "metadata": {},
   "outputs": [],
   "source": [
    "fig, ax = plt.subplots(1, 1, figsize=(6, 4))\n",
    "\n",
    "plt.yscale(\"log\")\n",
    "plt.xscale(\"log\")\n",
    "ax.plot(taulist, list(map(lambda tau: iir(res_e_qss, res_g_qss, tau), taulist)), label='7.7 0.2', c='b', linestyle='--')\n",
    "ax.plot(taulist, list(map(lambda tau: iir(Qe_2_05, Qg_2_05, tau), taulist)), label='2 0.5', c='r')\n",
    "ax.plot(taulist, list(map(lambda tau: iir(Qe_4_05, Qg_4_05, tau), taulist)), label='4 0.5', c='g')\n",
    "ax.plot(taulist, list(map(lambda tau: iir(Qe_7_05, Qg_7_05, tau), taulist)), label='7.7 0.5', c='b')\n",
    "ax.set_xlabel(\"Integration time (ns)\")\n",
    "ax.legend()\n",
    "ax.grid(True)\n",
    "ax.axvline(64, c='grey',  linestyle = 'dotted')\n",
    "ax.set_ylabel(r'  S($\\tau$)');"
   ]
  },
  {
   "cell_type": "code",
   "execution_count": null,
   "metadata": {},
   "outputs": [],
   "source": [
    "def simulate_readout(timesteps, chi, k_eff_d):\n",
    "    \n",
    "    N = 20\n",
    "    \n",
    "    sm = tensor(sigmam(), qeye(N)) # qubit\n",
    "    sz = tensor(-sigmaz(), qeye(N)) # qubit\n",
    "    a = tensor(qeye(2), destroy(N)) # readout resonator\n",
    "    Qr = (a + a.dag()) / 2\n",
    "\n",
    "    c_ops = [np.sqrt(k_eff_d) * a, np.sqrt(1/T_1) * sm, np.sqrt(Gamma) * sm]\n",
    "\n",
    "    psi0_g = tensor(basis(2,0), basis(N, 0))\n",
    "    psi0_e = tensor(basis(2,1), basis(N, 0))\n",
    "    \n",
    "    E_d = np.sqrt(n_d*(k_eff_d**2/4 + chi**2))\n",
    "    \n",
    "    H_JC_int = (w_q - w_d) * sz + (w_r - w_d) * a.dag()*a + chi*a.dag()*a * sz\n",
    "    H_drive = E_d * (a + a.dag())\n",
    "    H_int = H_JC_int + H_drive\n",
    "\n",
    "    result_g = mesolve(H_int, psi0_g, timesteps, c_ops)\n",
    "    result_e = mesolve(H_int, psi0_e, timesteps, c_ops)\n",
    "\n",
    "    Qr_0 = expect(Qr, result_g.states)\n",
    "    Qr_1 = expect(Qr, result_e.states)\n",
    "    \n",
    "    return Qr_0, Qr_1\n",
    "\n",
    "def integrated_info_rate(timesteps, Qr_0, Qr_1, k_eff):\n",
    "    t_min = np.min(timesteps)\n",
    "    t_max = np.max(timesteps)\n",
    "    tau = t_max - t_min\n",
    "    return 1 / np.sqrt(tau) * np.sum(np.abs(np.sqrt(k_eff) * np.real(Qr_0 - Qr_1)))\n",
    "\n",
    "timesteps = np.linspace(0,200,1000)\n",
    "\n",
    "chis = [-7.9] # MHz\n",
    "chis = np.array(chis) * 2 * np.pi * 1e-3\n",
    "ratios = np.linspace(0.05, 0.7, 100)\n",
    "readout_timesteps = [timesteps[:i] for i in range(60, len(timesteps), 20)]\n",
    "readout_durations = [timesteps[i] for i in range(60, len(timesteps), 20)]\n",
    "\n",
    "results = []\n",
    "for chi in chis:\n",
    "    temp = []\n",
    "    for ratio in ratios:\n",
    "        k_eff = np.abs(chi / ratio)\n",
    "        Qr_0, Qr_1 = simulate_readout(timesteps, chi, k_eff)\n",
    "        info_rates = []\n",
    "        for i, readout_timestep in enumerate(readout_timesteps):\n",
    "            iir = integrated_info_rate(readout_timestep, Qr_0[:(60 + 20*(i+1))], Qr_1[:(60 + 20*(i+1))], k_eff)\n",
    "            info_rates.append(iir)\n",
    "        \n",
    "        temp.append(info_rates)\n",
    "    results.append(temp)\n",
    "    "
   ]
  },
  {
   "cell_type": "markdown",
   "metadata": {},
   "source": [
    "## Fig 4(a): optimal ratio vs integration time"
   ]
  },
  {
   "cell_type": "code",
   "execution_count": null,
   "metadata": {},
   "outputs": [],
   "source": [
    "r = np.array(results)\n",
    "\n",
    "chi1 = r[0,:,:]\n",
    "max_ratios = []\n",
    "for i in range(chi1.shape[1]):\n",
    "    # print(np.argmax(chi1[:,i]))\n",
    "    max_ratio = ratios[np.argmax(chi1[:,i])]\n",
    "    max_ratios.append(max_ratio)\n",
    "    \n",
    "fig, ax = plt.subplots()\n",
    "ax.plot(np.array(readout_durations) * -chis[0], max_ratios, 'o-')\n",
    "ax.set_xlabel(\"Integration time (ns)\")\n",
    "ax.set_ylabel(\"Optimal ratio\")"
   ]
  },
  {
   "cell_type": "code",
   "execution_count": null,
   "metadata": {},
   "outputs": [],
   "source": []
  }
 ],
 "metadata": {
  "kernelspec": {
   "display_name": "Python 3 (ipykernel)",
   "language": "python",
   "name": "python3"
  },
  "language_info": {
   "codemirror_mode": {
    "name": "ipython",
    "version": 3
   },
   "file_extension": ".py",
   "mimetype": "text/x-python",
   "name": "python",
   "nbconvert_exporter": "python",
   "pygments_lexer": "ipython3",
   "version": "3.11.8"
  }
 },
 "nbformat": 4,
 "nbformat_minor": 4
}
