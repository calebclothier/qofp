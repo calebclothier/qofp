{
 "cells": [
  {
   "cell_type": "code",
   "execution_count": null,
   "metadata": {},
   "outputs": [],
   "source": [
    "%matplotlib widget\n",
    "\n",
    "from qutip import *\n",
    "import numpy as np\n",
    "import matplotlib.pyplot as plt"
   ]
  },
  {
   "cell_type": "code",
   "execution_count": null,
   "metadata": {},
   "outputs": [],
   "source": [
    "GHz = 1e9\n",
    "MHz = 1e6\n",
    "ns = 1e-9\n",
    "us = 1e-6\n",
    "scale = GHz\n",
    "\n",
    "wq = 6.316 * GHz * 2*np.pi / scale\n",
    "wr = 4.754 * GHz * 2*np.pi / scale\n",
    "delta = 340 * MHz * 2*np.pi / scale\n",
    "wf = 4.752 * GHz * 2*np.pi / scale\n",
    "g = 208 * MHz * 2*np.pi / scale\n",
    "G = 25 * MHz * 2*np.pi / scale\n",
    "Delta = wq - wr\n",
    "chi = g**2/Delta - 2*g**2/(2*(Delta-delta))\n",
    "T1 = 7.6 * us * scale\n",
    "n_crit = Delta**2/(4*g**2)\n",
    "n_d = 2.5\n",
    "\n",
    "kf = 64 * MHz * 2*np.pi / scale\n",
    "k_eff = 4*G**2/kf/(1 + (2*(wq - wf)/kf)**2)\n",
    "k_eff_d = 4*G**2/kf/(1 + (2*(wr - wf)/kf)**2)\n",
    "E_d = np.sqrt(n_d*(k_eff_d**2/4 + chi**2))\n",
    "Gamma = g**2*k_eff/Delta**2\n",
    "\n",
    "wd = wr\n",
    "wq_prime = wq + g**2/Delta\n",
    "wr_prime = wr - 2*g**2/(2*(Delta - delta))\n",
    "\n",
    "print(f\"chi/2pi= {1e3 * chi / (2*np.pi) : .3f} MHz\")\n",
    "print(f\"wq_prime/2pi = {1e3 * wq_prime / (2*np.pi) : .3f} MHz\")"
   ]
  },
  {
   "cell_type": "code",
   "execution_count": null,
   "metadata": {},
   "outputs": [],
   "source": [
    "N = 10  # excitation number cutoff\n",
    "timesteps = np.linspace(0,1,1000) # time steps\n",
    "\n",
    "# g, e, f = basis(3, 0), basis(3, 1), basis(3, 2) # transmon basis states\n",
    "# sigz_transmon = e*e.dag() - g*g.dag()\n",
    "sm = tensor(sigmam(), qeye(N), qeye(N)) # qubit\n",
    "sz = tensor(-sigmaz(), qeye(N), qeye(N)) # qubit\n",
    "a = tensor(qeye(2), destroy(N), qeye(N)) # readout resonator\n",
    "b = tensor(qeye(2), qeye(N), destroy(N)) # Purcell filter\n",
    "Qr = (a + a.dag()) / 2\n",
    "\n",
    "H_JC = (wq + g**2/Delta) * sz + (wr - g**2/(Delta-delta)) * a.dag()*a + chi * a.dag()*a * sz\n",
    "H_JC_int = (wq + g**2/Delta - wd) * sz + (wr - g**2/(Delta - delta) - wd) * a.dag()*a + chi*a.dag()*a * sz\n",
    "H_drive = E_d * (a + a.dag())\n",
    "H_int = H_JC_int + H_drive\n"
   ]
  },
  {
   "cell_type": "code",
   "execution_count": null,
   "metadata": {},
   "outputs": [],
   "source": [
    "timesteps = np.linspace(0,20,100)\n",
    "\n",
    "c_ops = [np.sqrt(k_eff_d) * a, np.sqrt(1/T1) * sm, np.sqrt(Gamma) * sm]\n",
    "\n",
    "psi0_g = tensor(basis(2,0), basis(N, 0), basis(N, 0))\n",
    "psi0_e = tensor(basis(2,1), basis(N, 0), basis(N, 0))\n",
    "\n",
    "result_g = mesolve(H_int, psi0_g, timesteps, c_ops)\n",
    "result_e = mesolve(H_int, psi0_e, timesteps, c_ops)\n",
    "\n",
    "Qr_0 = expect(Qr, result_g.states)\n",
    "Qr_1 = expect(Qr, result_e.states)"
   ]
  },
  {
   "cell_type": "code",
   "execution_count": null,
   "metadata": {},
   "outputs": [],
   "source": [
    "fig, ax = plt.subplots()\n",
    "ax.plot(timesteps, Qr_0)\n",
    "ax.plot(timesteps, Qr_1)"
   ]
  },
  {
   "cell_type": "code",
   "execution_count": null,
   "metadata": {},
   "outputs": [],
   "source": [
    "N = 10  # excitation number cutoff\n",
    "timesteps = np.linspace(0,1,1000) # time steps\n",
    "\n",
    "psi_g = tensor(basis(3, 0), qeye(N), qeye(N))\n",
    "psi_e = tensor(basis(3, 1), qeye(N), qeye(N))\n",
    "psi_f = tensor(basis(3, 2), qeye(N), qeye(N)) # transmon basis states\n",
    "lower_eg = psi_g*psi_e.dag()\n",
    "lower_fe = psi_e*psi_f.dag()\n",
    "sigz = psi_e*psi_e.dag()-psi_g*psi_g.dag() # qubit\n",
    "a = tensor(qeye(3), destroy(N), qeye(N)) # readout resonator\n",
    "b = tensor(qeye(3), qeye(N), destroy(N)) # Purcell filter\n",
    "\n",
    "H_transmon= wq*psi_e*psi_e.dag() + (2*wq-delta)*psi_f*psi_f.dag()\n",
    "H_resonator = wr*a.dag()*a + g*(a.dag()*lower_eg+a*lower_eg.dag()) + np.sqrt(2)*g*(a.dag()*lower_fe+a*lower_fe.dag()) \n",
    "H_filter = wf*b.dag()*b + G*(a.dag()*b+a*b.dag())\n",
    "H_drive = a + a.dag()\n",
    "\n",
    "H_exact = H_transmon + H_resonator + H_filter"
   ]
  }
 ],
 "metadata": {
  "language_info": {
   "name": "python"
  },
  "orig_nbformat": 4
 },
 "nbformat": 4,
 "nbformat_minor": 2
}
